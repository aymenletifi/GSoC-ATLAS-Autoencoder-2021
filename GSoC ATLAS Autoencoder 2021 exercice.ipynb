{
  "nbformat": 4,
  "nbformat_minor": 0,
  "metadata": {
    "colab": {
      "name": "GSoC.ipynb",
      "provenance": []
    },
    "kernelspec": {
      "name": "python3",
      "display_name": "Python 3"
    }
  },
  "cells": [
    {
      "cell_type": "markdown",
      "metadata": {
        "id": "IogLVm4nWtKr"
      },
      "source": [
        "#**ATLAS Autoencoders GSoC 2021**\r\n",
        "\r\n",
        "In this notebook we will use some ATLAS data and train an autoencoder neural network to try and compress the \"four-momentum\" of the jet particles. Let's start."
      ]
    },
    {
      "cell_type": "code",
      "metadata": {
        "id": "VmNWrwWUWu61"
      },
      "source": [
        "import pandas as pd\r\n",
        "import re"
      ],
      "execution_count": null,
      "outputs": []
    },
    {
      "cell_type": "markdown",
      "metadata": {
        "id": "vnrqFjosehOm"
      },
      "source": [
        "###Looking into the dataset\r\n",
        "First, we need to look into our dataset and solve the delimiter problem. Here we run through the dataset line after line and we split the lines by ',' or ';' then look for our jets in each line and add them to the list."
      ]
    },
    {
      "cell_type": "code",
      "metadata": {
        "id": "Dh9RQJ6LoK4W"
      },
      "source": [
        "jets = []\r\n",
        "with open('/content/monojet_Zp2000.0_DM_50.0_chan3.csv') as fobj:\r\n",
        "    for line in fobj:\r\n",
        "        tokens = re.split(',|;', line)\r\n",
        "        for index, token in enumerate(tokens):\r\n",
        "            if token == 'j':\r\n",
        "              jet = []\r\n",
        "              for elem in tokens[(index+1):(index+5)]:\r\n",
        "                jet.append(float(elem))\r\n",
        "              jets.append(jet)"
      ],
      "execution_count": 38,
      "outputs": []
    },
    {
      "cell_type": "code",
      "metadata": {
        "id": "XwDZfvjIoPPA"
      },
      "source": [
        "df = pd.DataFrame(jets, columns=('e','pt','eta','phi'))"
      ],
      "execution_count": 39,
      "outputs": []
    },
    {
      "cell_type": "code",
      "metadata": {
        "colab": {
          "base_uri": "https://localhost:8080/",
          "height": 195
        },
        "id": "C23gLC-PvsTe",
        "outputId": "65355039-251c-48e9-8345-689719561270"
      },
      "source": [
        "df.head()"
      ],
      "execution_count": 40,
      "outputs": [
        {
          "output_type": "execute_result",
          "data": {
            "text/html": [
              "<div>\n",
              "<style scoped>\n",
              "    .dataframe tbody tr th:only-of-type {\n",
              "        vertical-align: middle;\n",
              "    }\n",
              "\n",
              "    .dataframe tbody tr th {\n",
              "        vertical-align: top;\n",
              "    }\n",
              "\n",
              "    .dataframe thead th {\n",
              "        text-align: right;\n",
              "    }\n",
              "</style>\n",
              "<table border=\"1\" class=\"dataframe\">\n",
              "  <thead>\n",
              "    <tr style=\"text-align: right;\">\n",
              "      <th></th>\n",
              "      <th>e</th>\n",
              "      <th>pt</th>\n",
              "      <th>eta</th>\n",
              "      <th>phi</th>\n",
              "    </tr>\n",
              "  </thead>\n",
              "  <tbody>\n",
              "    <tr>\n",
              "      <th>0</th>\n",
              "      <td>258722.0</td>\n",
              "      <td>243675.0</td>\n",
              "      <td>0.328962</td>\n",
              "      <td>2.25014</td>\n",
              "    </tr>\n",
              "    <tr>\n",
              "      <th>1</th>\n",
              "      <td>520092.0</td>\n",
              "      <td>108590.0</td>\n",
              "      <td>-2.247300</td>\n",
              "      <td>-1.85679</td>\n",
              "    </tr>\n",
              "    <tr>\n",
              "      <th>2</th>\n",
              "      <td>383024.0</td>\n",
              "      <td>88405.6</td>\n",
              "      <td>2.145160</td>\n",
              "      <td>-1.95635</td>\n",
              "    </tr>\n",
              "    <tr>\n",
              "      <th>3</th>\n",
              "      <td>39507.6</td>\n",
              "      <td>35365.1</td>\n",
              "      <td>0.470460</td>\n",
              "      <td>-1.16445</td>\n",
              "    </tr>\n",
              "    <tr>\n",
              "      <th>4</th>\n",
              "      <td>225430.0</td>\n",
              "      <td>26878.2</td>\n",
              "      <td>-2.816080</td>\n",
              "      <td>-2.25938</td>\n",
              "    </tr>\n",
              "  </tbody>\n",
              "</table>\n",
              "</div>"
            ],
            "text/plain": [
              "          e        pt       eta      phi\n",
              "0  258722.0  243675.0  0.328962  2.25014\n",
              "1  520092.0  108590.0 -2.247300 -1.85679\n",
              "2  383024.0   88405.6  2.145160 -1.95635\n",
              "3   39507.6   35365.1  0.470460 -1.16445\n",
              "4  225430.0   26878.2 -2.816080 -2.25938"
            ]
          },
          "metadata": {
            "tags": []
          },
          "execution_count": 40
        }
      ]
    },
    {
      "cell_type": "markdown",
      "metadata": {
        "id": "WdtzNi8F0RHh"
      },
      "source": [
        "First, We need to look into general information about our dataset and check if there are any missing values to think of a way to handle them.\r\n"
      ]
    },
    {
      "cell_type": "code",
      "metadata": {
        "colab": {
          "base_uri": "https://localhost:8080/",
          "height": 284
        },
        "id": "UyIplG-h0X49",
        "outputId": "70a526e0-7aa2-4d42-869f-a561c8c86c85"
      },
      "source": [
        "df.describe()"
      ],
      "execution_count": 46,
      "outputs": [
        {
          "output_type": "execute_result",
          "data": {
            "text/html": [
              "<div>\n",
              "<style scoped>\n",
              "    .dataframe tbody tr th:only-of-type {\n",
              "        vertical-align: middle;\n",
              "    }\n",
              "\n",
              "    .dataframe tbody tr th {\n",
              "        vertical-align: top;\n",
              "    }\n",
              "\n",
              "    .dataframe thead th {\n",
              "        text-align: right;\n",
              "    }\n",
              "</style>\n",
              "<table border=\"1\" class=\"dataframe\">\n",
              "  <thead>\n",
              "    <tr style=\"text-align: right;\">\n",
              "      <th></th>\n",
              "      <th>e</th>\n",
              "      <th>pt</th>\n",
              "      <th>eta</th>\n",
              "      <th>phi</th>\n",
              "    </tr>\n",
              "  </thead>\n",
              "  <tbody>\n",
              "    <tr>\n",
              "      <th>count</th>\n",
              "      <td>22661.000000</td>\n",
              "      <td>22661.000000</td>\n",
              "      <td>22661.000000</td>\n",
              "      <td>22661.000000</td>\n",
              "    </tr>\n",
              "    <tr>\n",
              "      <th>mean</th>\n",
              "      <td>0.093624</td>\n",
              "      <td>0.105996</td>\n",
              "      <td>0.507326</td>\n",
              "      <td>0.498056</td>\n",
              "    </tr>\n",
              "    <tr>\n",
              "      <th>std</th>\n",
              "      <td>0.097121</td>\n",
              "      <td>0.128663</td>\n",
              "      <td>0.156509</td>\n",
              "      <td>0.288138</td>\n",
              "    </tr>\n",
              "    <tr>\n",
              "      <th>min</th>\n",
              "      <td>0.000000</td>\n",
              "      <td>0.000000</td>\n",
              "      <td>0.000000</td>\n",
              "      <td>0.000000</td>\n",
              "    </tr>\n",
              "    <tr>\n",
              "      <th>25%</th>\n",
              "      <td>0.021385</td>\n",
              "      <td>0.012256</td>\n",
              "      <td>0.406823</td>\n",
              "      <td>0.248106</td>\n",
              "    </tr>\n",
              "    <tr>\n",
              "      <th>50%</th>\n",
              "      <td>0.060748</td>\n",
              "      <td>0.048161</td>\n",
              "      <td>0.507493</td>\n",
              "      <td>0.498883</td>\n",
              "    </tr>\n",
              "    <tr>\n",
              "      <th>75%</th>\n",
              "      <td>0.137141</td>\n",
              "      <td>0.165593</td>\n",
              "      <td>0.608777</td>\n",
              "      <td>0.745767</td>\n",
              "    </tr>\n",
              "    <tr>\n",
              "      <th>max</th>\n",
              "      <td>1.000000</td>\n",
              "      <td>1.000000</td>\n",
              "      <td>1.000000</td>\n",
              "      <td>1.000000</td>\n",
              "    </tr>\n",
              "  </tbody>\n",
              "</table>\n",
              "</div>"
            ],
            "text/plain": [
              "                  e            pt           eta           phi\n",
              "count  22661.000000  22661.000000  22661.000000  22661.000000\n",
              "mean       0.093624      0.105996      0.507326      0.498056\n",
              "std        0.097121      0.128663      0.156509      0.288138\n",
              "min        0.000000      0.000000      0.000000      0.000000\n",
              "25%        0.021385      0.012256      0.406823      0.248106\n",
              "50%        0.060748      0.048161      0.507493      0.498883\n",
              "75%        0.137141      0.165593      0.608777      0.745767\n",
              "max        1.000000      1.000000      1.000000      1.000000"
            ]
          },
          "metadata": {
            "tags": []
          },
          "execution_count": 46
        }
      ]
    },
    {
      "cell_type": "code",
      "metadata": {
        "colab": {
          "base_uri": "https://localhost:8080/"
        },
        "id": "gwDufvFw0ZpZ",
        "outputId": "24f1d34d-5087-4445-9f8d-c2a22c9a9826"
      },
      "source": [
        "df.isna().sum()/(len(df))*100"
      ],
      "execution_count": 47,
      "outputs": [
        {
          "output_type": "execute_result",
          "data": {
            "text/plain": [
              "e      0.0\n",
              "pt     0.0\n",
              "eta    0.0\n",
              "phi    0.0\n",
              "dtype: float64"
            ]
          },
          "metadata": {
            "tags": []
          },
          "execution_count": 47
        }
      ]
    },
    {
      "cell_type": "markdown",
      "metadata": {
        "id": "F4NxBsoD0fPu"
      },
      "source": [
        "Now that we are sure that there are no missing values we can go to the next step."
      ]
    },
    {
      "cell_type": "markdown",
      "metadata": {
        "id": "HjW7FIt0f2eL"
      },
      "source": [
        "We can see that the features have very diffrent value ranges so it is a must to normalize our data to get our features to a common scale.\r\n",
        "For the normalization , I used sklearn library's MinMaxScaler.\r\n",
        "\r\n"
      ]
    },
    {
      "cell_type": "code",
      "metadata": {
        "id": "zEhxFi9swJfP"
      },
      "source": [
        "from sklearn import preprocessing\r\n",
        "\r\n",
        "def normalize(df):\r\n",
        "  '''We normalize the given dataset's features \r\n",
        "  using the minmaxscaler of sklearn library'''\r\n",
        "\r\n",
        "  x = df.values #returns a numpy array\r\n",
        "  min_max_scaler = preprocessing.MinMaxScaler()\r\n",
        "  x_scaled = min_max_scaler.fit_transform(x)\r\n",
        "  return pd.DataFrame(x_scaled, columns=('e','pt','eta','phi'))"
      ],
      "execution_count": 41,
      "outputs": []
    },
    {
      "cell_type": "code",
      "metadata": {
        "id": "d9TvM-7ZawpH"
      },
      "source": [
        "import matplotlib.pyplot as plt\r\n",
        "\r\n",
        "def visualize(df):\r\n",
        "  unit_list = ['[GeV]','[GeV]', '[rad]', '[rad]']\r\n",
        "  variable_list = ['E',r'$p_T$', r'$\\eta$', r'$\\phi$']\r\n",
        "\r\n",
        "  branches=[\"e\",\"pt\",\"eta\",\"phi\"]\r\n",
        "\r\n",
        "  n_bins = 100\r\n",
        "\r\n",
        "  for k in range(0,4):\r\n",
        "      n_hist_data, bin_edges, _ = plt.hist(df[branches[k]], color='gray', label='Input', alpha=1, bins=n_bins)\r\n",
        "      plt.xlabel(xlabel=variable_list[k] + ' ' + unit_list[k])\r\n",
        "      plt.ylabel('# of events')\r\n",
        "      plt.show()"
      ],
      "execution_count": 28,
      "outputs": []
    },
    {
      "cell_type": "markdown",
      "metadata": {
        "id": "J30e1Kgvfr4O"
      },
      "source": [
        "After defining our visulization and normalization function let's visualize our data using the matplotlib library."
      ]
    },
    {
      "cell_type": "code",
      "metadata": {
        "colab": {
          "base_uri": "https://localhost:8080/",
          "height": 1000
        },
        "id": "p76tEes91lX_",
        "outputId": "b2a6bdad-7751-4042-d76c-2d08cad073a8"
      },
      "source": [
        "visualize(df)"
      ],
      "execution_count": 42,
      "outputs": [
        {
          "output_type": "display_data",
          "data": {
            "image/png": "[encoded data removed]",
            "text/plain": [
              "<Figure size 432x288 with 1 Axes>"
            ]
          },
          "metadata": {
            "tags": [],
            "needs_background": "light"
          }
        },
        {
          "output_type": "display_data",
          "data": {
            "image/png": "[encoded data removed]",
            "text/plain": [
              "<Figure size 432x288 with 1 Axes>"
            ]
          },
          "metadata": {
            "tags": [],
            "needs_background": "light"
          }
        },
        {
          "output_type": "display_data",
          "data": {
            "image/png": "[encoded data removed]",
            "text/plain": [
              "<Figure size 432x288 with 1 Axes>"
            ]
          },
          "metadata": {
            "tags": [],
            "needs_background": "light"
          }
        },
        {
          "output_type": "display_data",
          "data": {
            "image/png": "[encoded data removed]",
            "text/plain": [
              "<Figure size 432x288 with 1 Axes>"
            ]
          },
          "metadata": {
            "tags": [],
            "needs_background": "light"
          }
        }
      ]
    },
    {
      "cell_type": "code",
      "metadata": {
        "id": "qAwTxrSJckdX"
      },
      "source": [
        "df = normalize(df)"
      ],
      "execution_count": 43,
      "outputs": []
    },
    {
      "cell_type": "code",
      "metadata": {
        "colab": {
          "base_uri": "https://localhost:8080/",
          "height": 1000
        },
        "id": "zkJ79_yxbREC",
        "outputId": "b9fee492-f377-472b-95bc-4906777eac74"
      },
      "source": [
        "visualize(df)"
      ],
      "execution_count": 44,
      "outputs": [
        {
          "output_type": "display_data",
          "data": {
            "image/png": "[encoded data removed]",
            "text/plain": [
              "<Figure size 432x288 with 1 Axes>"
            ]
          },
          "metadata": {
            "tags": [],
            "needs_background": "light"
          }
        },
        {
          "output_type": "display_data",
          "data": {
            "image/png": "[encoded data removed]",
            "text/plain": [
              "<Figure size 432x288 with 1 Axes>"
            ]
          },
          "metadata": {
            "tags": [],
            "needs_background": "light"
          }
        },
        {
          "output_type": "display_data",
          "data": {
            "image/png": "[encoded data removed]",
            "text/plain": [
              "<Figure size 432x288 with 1 Axes>"
            ]
          },
          "metadata": {
            "tags": [],
            "needs_background": "light"
          }
        },
        {
          "output_type": "display_data",
          "data": {
            "image/png": "[encoded data removed]",
            "text/plain": [
              "<Figure size 432x288 with 1 Axes>"
            ]
          },
          "metadata": {
            "tags": [],
            "needs_background": "light"
          }
        }
      ]
    },
    {
      "cell_type": "markdown",
      "metadata": {
        "id": "TjUPPh2kgZ_7"
      },
      "source": [
        "Visualizing the data before and after the normalization shows us that the shape of the distribution is still the same so the normalization was successful."
      ]
    },
    {
      "cell_type": "markdown",
      "metadata": {
        "id": "bndr5RLxhKCX"
      },
      "source": [
        "##Setting up the network\r\n",
        "###Preparing the data\r\n",
        "Adding the two datasets as TensorDatasets to PyTorch (also loading all other classes we'll need later)"
      ]
    },
    {
      "cell_type": "code",
      "metadata": {
        "id": "qAP_aBcD7rAT"
      },
      "source": [
        "import torch\r\n",
        "import torch.nn as nn\r\n",
        "import torch.optim as optim\r\n",
        "import torch.utils.data\r\n",
        "from torch.autograd import Variable\r\n",
        "\r\n",
        "from torch.utils.data import TensorDataset\r\n",
        "from torch.utils.data import DataLoader\r\n",
        "\r\n",
        "from fastai import learner\r\n",
        "from fastai.data import core\r\n",
        "\r\n"
      ],
      "execution_count": 10,
      "outputs": []
    },
    {
      "cell_type": "code",
      "metadata": {
        "id": "XB3JEgp9BYJh"
      },
      "source": [
        "#Since we are creating an autoencoder, the input and output data is the same\r\n",
        "ds = TensorDataset(torch.tensor(df.values, dtype=torch.float), torch.tensor(df.values, dtype=torch.float))\r\n",
        "\r\n",
        "#We split our data into training set and test set\r\n",
        "train_ds, test_ds = torch.utils.data.random_split(ds, [int(0.8 * len(ds)), len(ds) - int(0.8 * len(ds))])"
      ],
      "execution_count": 11,
      "outputs": []
    },
    {
      "cell_type": "markdown",
      "metadata": {
        "id": "iG4r4MUGkARQ"
      },
      "source": [
        "We now set things up to load the data, and we use a batch size that was optimized by previous students...note also that this is fastai v2, migration thanks to Jessica Lastow.\r\n",
        "\r\n"
      ]
    },
    {
      "cell_type": "code",
      "metadata": {
        "id": "fcnjU_RcINHF"
      },
      "source": [
        "bs = 256\r\n",
        "\r\n",
        "# Converts the TensorDataset into a DataLoader object and\r\n",
        "# combines into one DataLoaders object (a basic wrapper\r\n",
        "# around several DataLoader objects). \r\n",
        "train_dl = DataLoader(train_ds, batch_size=bs, shuffle=True)\r\n",
        "test_dl = DataLoader(test_ds, batch_size=bs * 2)\r\n",
        "dls = core.DataLoaders(train_dl, test_dl)"
      ],
      "execution_count": 13,
      "outputs": []
    },
    {
      "cell_type": "markdown",
      "metadata": {
        "id": "uZoX-uFAkZKN"
      },
      "source": [
        "###Preparing the network\r\n",
        "\r\n",
        "Here we have an example network. Details aren't too important, as long as they match what was already trained for us...in this case we have a LeakyReLU, tanh activation function, and a number of layers that goes from 4 to 200 to 20 to 3 (number of features in the hidden layer that we pick for testing compression) and then back all the way to 4."
      ]
    },
    {
      "cell_type": "code",
      "metadata": {
        "colab": {
          "base_uri": "https://localhost:8080/"
        },
        "id": "K9Iy6dUiIxVI",
        "outputId": "2f566fd7-06c5-4ca4-f4e1-c331decd4916"
      },
      "source": [
        "class AE_3D_200_LeakyReLU(nn.Module):\r\n",
        "    def __init__(self, n_features=4):\r\n",
        "        super(AE_3D_200_LeakyReLU, self).__init__()\r\n",
        "        self.en1 = nn.Linear(n_features, 200)\r\n",
        "        self.en2 = nn.Linear(200, 200)\r\n",
        "        self.en3 = nn.Linear(200, 20)\r\n",
        "        self.en4 = nn.Linear(20, 3)\r\n",
        "        self.de1 = nn.Linear(3, 20)\r\n",
        "        self.de2 = nn.Linear(20, 200)\r\n",
        "        self.de3 = nn.Linear(200, 200)\r\n",
        "        self.de4 = nn.Linear(200, n_features)\r\n",
        "        self.tanh = nn.Tanh()\r\n",
        "\r\n",
        "    def encode(self, x):\r\n",
        "        return self.en4(self.tanh(self.en3(self.tanh(self.en2(self.tanh(self.en1(x)))))))\r\n",
        "\r\n",
        "    def decode(self, x):\r\n",
        "        return self.de4(self.tanh(self.de3(self.tanh(self.de2(self.tanh(self.de1(self.tanh(x))))))))\r\n",
        "\r\n",
        "    def forward(self, x):\r\n",
        "        z = self.encode(x)\r\n",
        "        return self.decode(z)\r\n",
        "\r\n",
        "    def describe(self):\r\n",
        "        return 'in-200-200-20-3-20-200-200-out'\r\n",
        "\r\n",
        "#model = AE_3D_200_LeakyReLU().double()\r\n",
        "model = AE_3D_200_LeakyReLU()\r\n",
        "model.to('cpu')"
      ],
      "execution_count": 14,
      "outputs": [
        {
          "output_type": "execute_result",
          "data": {
            "text/plain": [
              "AE_3D_200_LeakyReLU(\n",
              "  (en1): Linear(in_features=4, out_features=200, bias=True)\n",
              "  (en2): Linear(in_features=200, out_features=200, bias=True)\n",
              "  (en3): Linear(in_features=200, out_features=20, bias=True)\n",
              "  (en4): Linear(in_features=20, out_features=3, bias=True)\n",
              "  (de1): Linear(in_features=3, out_features=20, bias=True)\n",
              "  (de2): Linear(in_features=20, out_features=200, bias=True)\n",
              "  (de3): Linear(in_features=200, out_features=200, bias=True)\n",
              "  (de4): Linear(in_features=200, out_features=4, bias=True)\n",
              "  (tanh): Tanh()\n",
              ")"
            ]
          },
          "metadata": {
            "tags": []
          },
          "execution_count": 14
        }
      ]
    },
    {
      "cell_type": "markdown",
      "metadata": {
        "id": "utoTpBwCkn7l"
      },
      "source": [
        "We now have to pick a loss function - MSE loss is appropriate for a compression autoencoder since it reflects the [(input-output)/input] physical quantity that we want to minimize."
      ]
    },
    {
      "cell_type": "code",
      "metadata": {
        "id": "xRMEqFICI3gP"
      },
      "source": [
        "from fastai.metrics import mse\r\n",
        "\r\n",
        "loss_func = nn.MSELoss()\r\n",
        "\r\n",
        "#bn_wd = False  # Don't use weight decay for batchnorm layers\r\n",
        "#true_wd = True  # weight decay will be used for all optimizers\r\n",
        "wd = 1e-6\r\n",
        "\r\n",
        "recorder = learner.Recorder()\r\n",
        "learn = learner.Learner(dls, model=model, wd=wd, loss_func=loss_func, cbs=recorder)\r\n",
        "#was: learn = basic_train.Learner(data=db, model=model, loss_func=loss_func, wd=wd, callback_fns=ActivationStats, bn_wd=bn_wd, true_wd=true_wd)"
      ],
      "execution_count": 15,
      "outputs": []
    },
    {
      "cell_type": "markdown",
      "metadata": {
        "id": "SsIf1MSXlQSX"
      },
      "source": [
        "##Training a new network\r\n",
        "Since we don't have a pretrained model like the example we need to create a brand new one.\r\n",
        "First, we want to find the best learning rate. The learning rate is a hyper-paramater that sets how much the weights of the network will change each step with respect to the loss gradient.\r\n",
        "\r\n",
        "Then we plot the loss versus the learning rates. We're interested in finding a good order of magnitude of learning rate, so we plot with a log scale.\r\n",
        "\r\n",
        "A good value for the learning rates is then either:\r\n",
        "\r\n",
        "1.  one tenth of the minimum before the divergence\r\n",
        "2.  when the slope is the steepest\r\n",
        "\r\n",
        "\r\n",
        "\r\n",
        "\r\n"
      ]
    },
    {
      "cell_type": "code",
      "metadata": {
        "colab": {
          "base_uri": "https://localhost:8080/",
          "height": 317
        },
        "id": "9FvZBYWJI94_",
        "outputId": "91fb465c-0d85-4809-b836-c5447233cdc7"
      },
      "source": [
        "from fastai.callback import schedule\r\n",
        "\r\n",
        "lr_min, lr_steep = learn.lr_find()\r\n",
        "\r\n",
        "print('Learning rate with the minimum loss:', lr_min)\r\n",
        "print('Learning rate with the steepest gradient:', lr_steep)"
      ],
      "execution_count": 16,
      "outputs": [
        {
          "output_type": "stream",
          "text": [
            "Learning rate with the minimum loss: 0.003981071710586548\n",
            "Learning rate with the steepest gradient: 0.0003981071640737355\n"
          ],
          "name": "stdout"
        },
        {
          "output_type": "display_data",
          "data": {
            "image/png": "[encoded data removed]",
            "text/plain": [
              "<Figure size 432x288 with 1 Axes>"
            ]
          },
          "metadata": {
            "tags": [],
            "needs_background": "light"
          }
        }
      ]
    },
    {
      "cell_type": "markdown",
      "metadata": {
        "id": "CAcmRHjCmjul"
      },
      "source": [
        "Now we go to the training part.\r\n",
        "We can either chose lr_min or lr_steep as the learning rate.\r\n",
        "Here, we're going to chose lr_min."
      ]
    },
    {
      "cell_type": "code",
      "metadata": {
        "colab": {
          "base_uri": "https://localhost:8080/"
        },
        "id": "_ardULkIJEa5",
        "outputId": "0563cf7b-3ee2-47c7-fc53-b43fa409f37b"
      },
      "source": [
        "import time\r\n",
        "\r\n",
        "start = time.perf_counter() # Starts timer\r\n",
        "learn.fit_one_cycle(100,lr_min)\r\n",
        "end = time.perf_counter() # Ends timer\r\n",
        "delta_t = end - start\r\n",
        "print('Training took', delta_t, 'seconds')"
      ],
      "execution_count": 18,
      "outputs": [
        {
          "output_type": "stream",
          "text": [
            "[0, 0.03723962604999542, 0.02252705581486225, '00:01']\n",
            "[0, 0.03723962604999542, 0.02252705581486225, '00:01']\n",
            "[1, 0.016821222379803658, 0.007860401645302773, '00:00']\n",
            "[1, 0.016821222379803658, 0.007860401645302773, '00:00']\n",
            "[2, 0.00810851901769638, 0.0028707743622362614, '00:00']\n",
            "[2, 0.00810851901769638, 0.0028707743622362614, '00:00']\n",
            "[3, 0.002854759804904461, 0.0009650276042521, '00:01']\n",
            "[3, 0.002854759804904461, 0.0009650276042521, '00:01']\n",
            "[4, 0.0014439139049500227, 0.0009078964940272272, '00:00']\n",
            "[4, 0.0014439139049500227, 0.0009078964940272272, '00:00']\n",
            "[5, 0.0010687552858144045, 0.0008608784410171211, '00:00']\n",
            "[5, 0.0010687552858144045, 0.0008608784410171211, '00:00']\n",
            "[6, 0.00098075857385993, 0.0008479944663122296, '00:00']\n",
            "[6, 0.00098075857385993, 0.0008479944663122296, '00:00']\n",
            "[7, 0.0009296968346461654, 0.0008120823185890913, '00:00']\n",
            "[7, 0.0009296968346461654, 0.0008120823185890913, '00:00']\n",
            "[8, 0.0007903929799795151, 0.0005950609338469803, '00:00']\n",
            "[8, 0.0007903929799795151, 0.0005950609338469803, '00:00']\n",
            "[9, 0.0006509862723760307, 0.0004156283976044506, '00:00']\n",
            "[9, 0.0006509862723760307, 0.0004156283976044506, '00:00']\n",
            "[10, 0.0005610334337688982, 0.00048192162648774683, '00:00']\n",
            "[10, 0.0005610334337688982, 0.00048192162648774683, '00:00']\n",
            "[11, 0.0006353927310556173, 0.00040767801692709327, '00:01']\n",
            "[11, 0.0006353927310556173, 0.00040767801692709327, '00:01']\n",
            "[12, 0.0005482373526319861, 0.0003277533105574548, '00:00']\n",
            "[12, 0.0005482373526319861, 0.0003277533105574548, '00:00']\n",
            "[13, 0.0005144356400705874, 0.000387979467632249, '00:00']\n",
            "[13, 0.0005144356400705874, 0.000387979467632249, '00:00']\n",
            "[14, 0.0005529960035346448, 0.0003287256695330143, '00:00']\n",
            "[14, 0.0005529960035346448, 0.0003287256695330143, '00:00']\n",
            "[15, 0.0005540030542761087, 0.0010366204660385847, '00:00']\n",
            "[15, 0.0005540030542761087, 0.0010366204660385847, '00:00']\n",
            "[16, 0.0005679187015630305, 0.000581202213652432, '00:00']\n",
            "[16, 0.0005679187015630305, 0.000581202213652432, '00:00']\n",
            "[17, 0.0004873232392128557, 0.00041396674350835383, '00:00']\n",
            "[17, 0.0004873232392128557, 0.00041396674350835383, '00:00']\n",
            "[18, 0.000432448840001598, 0.0003755566431209445, '00:00']\n",
            "[18, 0.000432448840001598, 0.0003755566431209445, '00:00']\n",
            "[19, 0.0004338127910159528, 0.0003129542456008494, '00:01']\n",
            "[19, 0.0004338127910159528, 0.0003129542456008494, '00:01']\n",
            "[20, 0.00041948811849579215, 0.00011664233170449734, '00:01']\n",
            "[20, 0.00041948811849579215, 0.00011664233170449734, '00:01']\n",
            "[21, 0.0003905943885911256, 0.0005251388647593558, '00:01']\n",
            "[21, 0.0003905943885911256, 0.0005251388647593558, '00:01']\n",
            "[22, 0.0003149945696350187, 0.00024455072707496583, '00:01']\n",
            "[22, 0.0003149945696350187, 0.00024455072707496583, '00:01']\n",
            "[23, 0.00031384365865960717, 0.00017577040125615895, '00:00']\n",
            "[23, 0.00031384365865960717, 0.00017577040125615895, '00:00']\n",
            "[24, 0.0002497545792721212, 0.0003012059605680406, '00:01']\n",
            "[24, 0.0002497545792721212, 0.0003012059605680406, '00:01']\n",
            "[25, 0.00024218086036853492, 0.0005717051099054515, '00:00']\n",
            "[25, 0.00024218086036853492, 0.0005717051099054515, '00:00']\n",
            "[26, 0.00022320747666526586, 0.0002657926524989307, '00:00']\n",
            "[26, 0.00022320747666526586, 0.0002657926524989307, '00:00']\n",
            "[27, 0.00040656852070242167, 0.00014595268294215202, '00:01']\n",
            "[27, 0.00040656852070242167, 0.00014595268294215202, '00:01']\n",
            "[28, 0.0001739623985486105, 5.4797907068859786e-05, '00:01']\n",
            "[28, 0.0001739623985486105, 5.4797907068859786e-05, '00:01']\n",
            "[29, 0.00020558683900162578, 0.0003170721756760031, '00:00']\n",
            "[29, 0.00020558683900162578, 0.0003170721756760031, '00:00']\n",
            "[30, 0.00018935046682599932, 0.00016332726227119565, '00:00']\n",
            "[30, 0.00018935046682599932, 0.00016332726227119565, '00:00']\n",
            "[31, 0.00018646220269147307, 0.00035667119664140046, '00:00']\n",
            "[31, 0.00018646220269147307, 0.00035667119664140046, '00:00']\n",
            "[32, 0.0001565708516864106, 0.00014094941434450448, '00:00']\n",
            "[32, 0.0001565708516864106, 0.00014094941434450448, '00:00']\n",
            "[33, 0.0001595718931639567, 0.0001334914704784751, '00:00']\n",
            "[33, 0.0001595718931639567, 0.0001334914704784751, '00:00']\n",
            "[34, 0.00015685961989220232, 0.00023020421213004738, '00:00']\n",
            "[34, 0.00015685961989220232, 0.00023020421213004738, '00:00']\n",
            "[35, 0.00013167950964998454, 5.041755139245652e-05, '00:01']\n",
            "[35, 0.00013167950964998454, 5.041755139245652e-05, '00:01']\n",
            "[36, 9.552603296469897e-05, 0.00020937283989042044, '00:00']\n",
            "[36, 9.552603296469897e-05, 0.00020937283989042044, '00:00']\n",
            "[37, 0.0001387675729347393, 0.00013194124039728194, '00:01']\n",
            "[37, 0.0001387675729347393, 0.00013194124039728194, '00:01']\n",
            "[38, 0.0001262760633835569, 0.0002343604719499126, '00:00']\n",
            "[38, 0.0001262760633835569, 0.0002343604719499126, '00:00']\n",
            "[39, 0.0001013705477816984, 0.00015782288392074406, '00:00']\n",
            "[39, 0.0001013705477816984, 0.00015782288392074406, '00:00']\n",
            "[40, 0.00012071385572198778, 0.00010865001240745187, '00:00']\n",
            "[40, 0.00012071385572198778, 0.00010865001240745187, '00:00']\n",
            "[41, 7.3504306783434e-05, 5.0003782234853134e-05, '00:00']\n",
            "[41, 7.3504306783434e-05, 5.0003782234853134e-05, '00:00']\n",
            "[42, 8.319626795127988e-05, 7.832951814634725e-05, '00:00']\n",
            "[42, 8.319626795127988e-05, 7.832951814634725e-05, '00:00']\n",
            "[43, 6.547556404257193e-05, 3.0782724934397265e-05, '00:01']\n",
            "[43, 6.547556404257193e-05, 3.0782724934397265e-05, '00:01']\n",
            "[44, 6.322612898657098e-05, 5.697343294741586e-05, '00:01']\n",
            "[44, 6.322612898657098e-05, 5.697343294741586e-05, '00:01']\n",
            "[45, 6.439841672545299e-05, 5.6859982578316703e-05, '00:00']\n",
            "[45, 6.439841672545299e-05, 5.6859982578316703e-05, '00:00']\n",
            "[46, 5.334143861546181e-05, 3.644292883109301e-05, '00:00']\n",
            "[46, 5.334143861546181e-05, 3.644292883109301e-05, '00:00']\n",
            "[47, 4.304429967305623e-05, 2.974878589157015e-05, '00:00']\n",
            "[47, 4.304429967305623e-05, 2.974878589157015e-05, '00:00']\n",
            "[48, 5.216898352955468e-05, 2.10415728361113e-05, '00:00']\n",
            "[48, 5.216898352955468e-05, 2.10415728361113e-05, '00:00']\n",
            "[49, 4.4899930799147114e-05, 4.145920684095472e-05, '00:00']\n",
            "[49, 4.4899930799147114e-05, 4.145920684095472e-05, '00:00']\n",
            "[50, 4.9794842198025435e-05, 0.00011136539251310751, '00:00']\n",
            "[50, 4.9794842198025435e-05, 0.00011136539251310751, '00:00']\n",
            "[51, 3.445760376052931e-05, 1.2232272638357244e-05, '00:01']\n",
            "[51, 3.445760376052931e-05, 1.2232272638357244e-05, '00:01']\n",
            "[52, 3.138111060252413e-05, 1.1778912266890984e-05, '00:00']\n",
            "[52, 3.138111060252413e-05, 1.1778912266890984e-05, '00:00']\n",
            "[53, 3.6011802876600996e-05, 0.00019286994938738644, '00:00']\n",
            "[53, 3.6011802876600996e-05, 0.00019286994938738644, '00:00']\n",
            "[54, 2.7478807169245556e-05, 1.0412691153760534e-05, '00:01']\n",
            "[54, 2.7478807169245556e-05, 1.0412691153760534e-05, '00:01']\n",
            "[55, 2.0579283955157734e-05, 1.4637646017945372e-05, '00:01']\n",
            "[55, 2.0579283955157734e-05, 1.4637646017945372e-05, '00:01']\n",
            "[56, 1.731865449983161e-05, 6.824983302067267e-06, '00:01']\n",
            "[56, 1.731865449983161e-05, 6.824983302067267e-06, '00:01']\n",
            "[57, 1.8966027710121125e-05, 1.0101600310008507e-05, '00:01']\n",
            "[57, 1.8966027710121125e-05, 1.0101600310008507e-05, '00:01']\n",
            "[58, 1.657329084991943e-05, 1.3542850865633227e-05, '00:01']\n",
            "[58, 1.657329084991943e-05, 1.3542850865633227e-05, '00:01']\n",
            "[59, 1.7960535842576064e-05, 1.3172025319363456e-05, '00:01']\n",
            "[59, 1.7960535842576064e-05, 1.3172025319363456e-05, '00:01']\n",
            "[60, 1.2518633411673363e-05, 1.4463138541032095e-05, '00:01']\n",
            "[60, 1.2518633411673363e-05, 1.4463138541032095e-05, '00:01']\n",
            "[61, 1.1911683031939901e-05, 1.127411269408185e-05, '00:01']\n",
            "[61, 1.1911683031939901e-05, 1.127411269408185e-05, '00:01']\n",
            "[62, 9.597019015927799e-06, 1.1913775779248681e-05, '00:01']\n",
            "[62, 9.597019015927799e-06, 1.1913775779248681e-05, '00:01']\n",
            "[63, 1.0064772141049616e-05, 7.513199761888245e-06, '00:01']\n",
            "[63, 1.0064772141049616e-05, 7.513199761888245e-06, '00:01']\n",
            "[64, 7.923628800199367e-06, 7.350419309659628e-06, '00:01']\n",
            "[64, 7.923628800199367e-06, 7.350419309659628e-06, '00:01']\n",
            "[65, 9.181408131553326e-06, 5.770012649009004e-06, '00:01']\n",
            "[65, 9.181408131553326e-06, 5.770012649009004e-06, '00:01']\n",
            "[66, 5.988594239170197e-06, 8.194749170797877e-06, '00:01']\n",
            "[66, 5.988594239170197e-06, 8.194749170797877e-06, '00:01']\n",
            "[67, 5.550032255996484e-06, 3.93583468394354e-06, '00:01']\n",
            "[67, 5.550032255996484e-06, 3.93583468394354e-06, '00:01']\n",
            "[68, 5.3568510338664055e-06, 5.492531727213645e-06, '00:01']\n",
            "[68, 5.3568510338664055e-06, 5.492531727213645e-06, '00:01']\n",
            "[69, 4.917029855278088e-06, 3.910455689037917e-06, '00:01']\n",
            "[69, 4.917029855278088e-06, 3.910455689037917e-06, '00:01']\n",
            "[70, 3.804912012128625e-06, 3.3633989460213343e-06, '00:01']\n",
            "[70, 3.804912012128625e-06, 3.3633989460213343e-06, '00:01']\n",
            "[71, 3.6708931929751998e-06, 2.4868008949852083e-06, '00:01']\n",
            "[71, 3.6708931929751998e-06, 2.4868008949852083e-06, '00:01']\n",
            "[72, 3.679858309624251e-06, 4.448113031685352e-06, '00:01']\n",
            "[72, 3.679858309624251e-06, 4.448113031685352e-06, '00:01']\n",
            "[73, 3.3695698675728636e-06, 2.985160335811088e-06, '00:01']\n",
            "[73, 3.3695698675728636e-06, 2.985160335811088e-06, '00:01']\n",
            "[74, 2.764849568848149e-06, 3.3454402910138015e-06, '00:01']\n",
            "[74, 2.764849568848149e-06, 3.3454402910138015e-06, '00:01']\n",
            "[75, 2.4769187803030945e-06, 2.0745035271829693e-06, '00:01']\n",
            "[75, 2.4769187803030945e-06, 2.0745035271829693e-06, '00:01']\n",
            "[76, 2.1596640635834774e-06, 2.1612706859741593e-06, '00:01']\n",
            "[76, 2.1596640635834774e-06, 2.1612706859741593e-06, '00:01']\n",
            "[77, 2.2812396309745964e-06, 2.328283244423801e-06, '00:01']\n",
            "[77, 2.2812396309745964e-06, 2.328283244423801e-06, '00:01']\n",
            "[78, 1.9576307295210427e-06, 2.304231202288065e-06, '00:01']\n",
            "[78, 1.9576307295210427e-06, 2.304231202288065e-06, '00:01']\n",
            "[79, 1.9327178506500786e-06, 2.016558482864639e-06, '00:01']\n",
            "[79, 1.9327178506500786e-06, 2.016558482864639e-06, '00:01']\n",
            "[80, 1.7040986222127685e-06, 1.5274627003236674e-06, '00:01']\n",
            "[80, 1.7040986222127685e-06, 1.5274627003236674e-06, '00:01']\n",
            "[81, 1.686590735516802e-06, 1.6291630799969425e-06, '00:01']\n",
            "[81, 1.686590735516802e-06, 1.6291630799969425e-06, '00:01']\n",
            "[82, 1.503749786024855e-06, 1.3435335404210491e-06, '00:01']\n",
            "[82, 1.503749786024855e-06, 1.3435335404210491e-06, '00:01']\n",
            "[83, 1.4753048844795558e-06, 1.5317862107622204e-06, '00:01']\n",
            "[83, 1.4753048844795558e-06, 1.5317862107622204e-06, '00:01']\n",
            "[84, 1.4343864904731163e-06, 1.4196119764164905e-06, '00:01']\n",
            "[84, 1.4343864904731163e-06, 1.4196119764164905e-06, '00:01']\n",
            "[85, 1.364278546134301e-06, 1.3481281939675682e-06, '00:01']\n",
            "[85, 1.364278546134301e-06, 1.3481281939675682e-06, '00:01']\n",
            "[86, 1.3886831311538117e-06, 1.223146796291985e-06, '00:01']\n",
            "[86, 1.3886831311538117e-06, 1.223146796291985e-06, '00:01']\n",
            "[87, 1.247407112714427e-06, 1.1731062841136009e-06, '00:01']\n",
            "[87, 1.247407112714427e-06, 1.1731062841136009e-06, '00:01']\n",
            "[88, 1.2511147815530421e-06, 1.2071598121110583e-06, '00:01']\n",
            "[88, 1.2511147815530421e-06, 1.2071598121110583e-06, '00:01']\n",
            "[89, 1.214800704474328e-06, 1.179596210931777e-06, '00:01']\n",
            "[89, 1.214800704474328e-06, 1.179596210931777e-06, '00:01']\n",
            "[90, 1.1398461765566026e-06, 1.1462595921329921e-06, '00:01']\n",
            "[90, 1.1398461765566026e-06, 1.1462595921329921e-06, '00:01']\n",
            "[91, 1.11770805233391e-06, 1.2148586847615661e-06, '00:01']\n",
            "[91, 1.11770805233391e-06, 1.2148586847615661e-06, '00:01']\n",
            "[92, 1.1029819688701537e-06, 1.067885136762925e-06, '00:01']\n",
            "[92, 1.1029819688701537e-06, 1.067885136762925e-06, '00:01']\n",
            "[93, 1.0360381565988064e-06, 1.0523383480176562e-06, '00:01']\n",
            "[93, 1.0360381565988064e-06, 1.0523383480176562e-06, '00:01']\n",
            "[94, 1.030906219057215e-06, 1.0706293096518493e-06, '00:01']\n",
            "[94, 1.030906219057215e-06, 1.0706293096518493e-06, '00:01']\n",
            "[95, 1.0364447007304989e-06, 1.0543853932176717e-06, '00:01']\n",
            "[95, 1.0364447007304989e-06, 1.0543853932176717e-06, '00:01']\n",
            "[96, 1.0366674132455955e-06, 1.048051672114525e-06, '00:01']\n",
            "[96, 1.0366674132455955e-06, 1.048051672114525e-06, '00:01']\n",
            "[97, 9.874880788629525e-07, 1.0337208777855267e-06, '00:01']\n",
            "[97, 9.874880788629525e-07, 1.0337208777855267e-06, '00:01']\n",
            "[98, 1.0126959750778042e-06, 1.032045588544861e-06, '00:01']\n",
            "[98, 1.0126959750778042e-06, 1.032045588544861e-06, '00:01']\n",
            "[99, 1.0347308716518455e-06, 1.03068691714725e-06, '00:01']\n",
            "[99, 1.0347308716518455e-06, 1.03068691714725e-06, '00:01']\n",
            "Training took 105.58406488299988 seconds\n"
          ],
          "name": "stdout"
        }
      ]
    },
    {
      "cell_type": "markdown",
      "metadata": {
        "id": "XE4y7P8gnjSB"
      },
      "source": [
        "Then we plot the loss as a function of batches and epochs to check if we reach a plateau.\r\n",
        "\r\n"
      ]
    },
    {
      "cell_type": "code",
      "metadata": {
        "colab": {
          "base_uri": "https://localhost:8080/",
          "height": 265
        },
        "id": "SMU6hCRXMfJG",
        "outputId": "2c891c99-6c6f-4422-dfa1-73f0a057f6e7"
      },
      "source": [
        "recorder.plot_loss()"
      ],
      "execution_count": 19,
      "outputs": [
        {
          "output_type": "display_data",
          "data": {
            "image/png": "[encoded data removed]",
            "text/plain": [
              "<Figure size 432x288 with 1 Axes>"
            ]
          },
          "metadata": {
            "tags": [],
            "needs_background": "light"
          }
        }
      ]
    },
    {
      "cell_type": "markdown",
      "metadata": {
        "id": "hLcz9Iadno0G"
      },
      "source": [
        "Then we evaluate the MSE on this network - it should be of the order of 0.001 or less if all has gone well"
      ]
    },
    {
      "cell_type": "code",
      "metadata": {
        "colab": {
          "base_uri": "https://localhost:8080/"
        },
        "id": "WM_yASj2NK9d",
        "outputId": "95b66428-bfc4-45de-f67c-6fa85ee44367"
      },
      "source": [
        "learn.validate()\r\n"
      ],
      "execution_count": 20,
      "outputs": [
        {
          "output_type": "execute_result",
          "data": {
            "text/plain": [
              "(#1) [1.03068691714725e-06]"
            ]
          },
          "metadata": {
            "tags": []
          },
          "execution_count": 20
        }
      ]
    },
    {
      "cell_type": "markdown",
      "metadata": {
        "id": "T9mDuS7Rnp6G"
      },
      "source": [
        "since it's a lot smaller than the order of 0.001, then our training went well.\r\n",
        "Now let's go to plotting."
      ]
    },
    {
      "cell_type": "markdown",
      "metadata": {
        "id": "j-cP60YIn0ZB"
      },
      "source": [
        "###Plotting the outputs of the network"
      ]
    },
    {
      "cell_type": "markdown",
      "metadata": {
        "id": "d1-RiWYxn7or"
      },
      "source": [
        "A function in case we want to un-normalize and get back to physical quantities..."
      ]
    },
    {
      "cell_type": "code",
      "metadata": {
        "id": "jb2hl8oQoDCH"
      },
      "source": [
        "def unnormalize(df,scaler):\r\n",
        "  '''This function receives the dataset to \r\n",
        "  unnormalize and the scaler used to normalize it'''\r\n",
        "  \r\n",
        "  return pd.DataFrame(scaler.inverse_transform(df.to_numpy()),columns=('e','pt','eta','phi'))"
      ],
      "execution_count": 33,
      "outputs": []
    },
    {
      "cell_type": "markdown",
      "metadata": {
        "id": "lnN5pF77oHAf"
      },
      "source": [
        "\r\n",
        "Make the histograms from the dataset"
      ]
    },
    {
      "cell_type": "code",
      "metadata": {
        "colab": {
          "base_uri": "https://localhost:8080/",
          "height": 1000
        },
        "id": "1IenXZCHNVch",
        "outputId": "b6d4e0d5-42cf-49fa-ec25-de864ea3b0b3"
      },
      "source": [
        "import numpy as np\r\n",
        "\r\n",
        "colors = ['orange', 'c']\r\n",
        "\r\n",
        "test_x, test_y = ds[test_ds.indices]\r\n",
        "\r\n",
        "pred = model(test_x)\r\n",
        "\r\n",
        "data = test_y.detach().numpy()   \r\n",
        "pred = pred.detach().numpy()\r\n",
        "\r\n",
        "data_df = pd.DataFrame(data, columns=df.columns)\r\n",
        "pred_df = pd.DataFrame(pred, columns=df.columns)\r\n",
        "\r\n",
        "unnormalized_data_df = unnormalize(data_df,min_max_scaler)\r\n",
        "unnormalized_pred_df = unnormalize(pred_df,min_max_scaler)\r\n",
        "\r\n",
        "alph = 0.8\r\n",
        "n_bins = 200\r\n",
        "for kk in np.arange(4):\r\n",
        "    plt.figure()\r\n",
        "    n_hist_data, bin_edges, _ = plt.hist(data[:, kk], color=colors[1], label='Input', alpha=1, bins=n_bins)\r\n",
        "    n_hist_pred, _, _ = plt.hist(pred[:, kk], color=colors[0], label='Output', alpha=alph, bins=bin_edges)\r\n",
        "    plt.suptitle(df.columns[kk])\r\n",
        "    plt.xlabel(df.columns[kk])\r\n",
        "    plt.ylabel('Number of events')\r\n",
        "    # ms.sciy()\r\n",
        "    plt.yscale('log')\r\n",
        "    plt.legend()"
      ],
      "execution_count": 24,
      "outputs": [
        {
          "output_type": "display_data",
          "data": {
            "image/png": "[encoded data removed]",
            "text/plain": [
              "<Figure size 432x288 with 1 Axes>"
            ]
          },
          "metadata": {
            "tags": [],
            "needs_background": "light"
          }
        },
        {
          "output_type": "display_data",
          "data": {
            "image/png": "[encoded data removed]",
            "text/plain": [
              "<Figure size 432x288 with 1 Axes>"
            ]
          },
          "metadata": {
            "tags": [],
            "needs_background": "light"
          }
        },
        {
          "output_type": "display_data",
          "data": {
            "image/png": "[encoded data removed]",
            "text/plain": [
              "<Figure size 432x288 with 1 Axes>"
            ]
          },
          "metadata": {
            "tags": [],
            "needs_background": "light"
          }
        },
        {
          "output_type": "display_data",
          "data": {
            "image/png": "[encoded data removed]",
            "text/plain": [
              "<Figure size 432x288 with 1 Axes>"
            ]
          },
          "metadata": {
            "tags": [],
            "needs_background": "light"
          }
        }
      ]
    },
    {
      "cell_type": "markdown",
      "metadata": {
        "id": "KEBQ8pgGoIs-"
      },
      "source": [
        "We can see that the compression and decompression process went fairly well by the matching of the input and the output in the histograms."
      ]
    },
    {
      "cell_type": "code",
      "metadata": {
        "colab": {
          "base_uri": "https://localhost:8080/",
          "height": 349
        },
        "id": "iouIRQUUUXEP",
        "outputId": "b5b0c270-1748-4b74-f880-da55aca03c18"
      },
      "source": [
        "def getRatio(bin1,bin2):\r\n",
        "    bins = []\r\n",
        "    for b1,b2 in zip(bin1,bin2):\r\n",
        "        if b1==0 and b2==0:\r\n",
        "            bins.append(0.)\r\n",
        "        elif b2==0:\r\n",
        "            bins.append(None)\r\n",
        "        else:\r\n",
        "            bins.append((float(b2)-float(b1))/b1)\r\n",
        "    return bins   \r\n",
        "\r\n",
        "rat = getRatio(n_hist_data,n_hist_pred)\r\n",
        "plt.hist(rat)"
      ],
      "execution_count": 27,
      "outputs": [
        {
          "output_type": "execute_result",
          "data": {
            "text/plain": [
              "(array([ 2.,  9., 14., 46., 52., 31., 27.,  8.,  6.,  5.]),\n",
              " array([-0.31578947, -0.24849624, -0.18120301, -0.11390977, -0.04661654,\n",
              "         0.02067669,  0.08796992,  0.15526316,  0.22255639,  0.28984962,\n",
              "         0.35714286]),\n",
              " <a list of 10 Patch objects>)"
            ]
          },
          "metadata": {
            "tags": []
          },
          "execution_count": 27
        },
        {
          "output_type": "display_data",
          "data": {
            "image/png": "[encoded data removed]",
            "text/plain": [
              "<Figure size 432x288 with 1 Axes>"
            ]
          },
          "metadata": {
            "tags": [],
            "needs_background": "light"
          }
        }
      ]
    },
    {
      "cell_type": "markdown",
      "metadata": {
        "id": "XdKbJNXwoRym"
      },
      "source": [
        "This plot shows us the distribution of the error between our original data and the predicted data . It is not perfect but since it is centered around 0, we can say that it was a pretty good job."
      ]
    }
  ]
}